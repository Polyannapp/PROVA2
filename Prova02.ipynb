{
 "cells": [
  {
   "cell_type": "code",
   "execution_count": 21,
   "id": "0a4efc28-a166-465f-87d0-1a6bb4fbeaf3",
   "metadata": {},
   "outputs": [
    {
     "name": "stdout",
     "output_type": "stream",
     "text": [
      "O consumo diário médio foi:51.36666666666667\n"
     ]
    }
   ],
   "source": [
    "#exercicio função para lista de consumo diario de energia durante 30 meses e retorno do calculo da media desse consumo\n",
    "def consumo(consumo_diario):\n",
    "    consumo_diario = [50,45,55,60,48,52,47,49,53,51,50,46,54,61,49,53,48,50,52,47,56,50,55,60,48,52,47,49,53,51]\n",
    "    media = sum(consumo_diario) / len(consumo_diario)\n",
    "print(f\"O consumo diário médio foi:{media}\")"
   ]
  },
  {
   "cell_type": "code",
   "execution_count": null,
   "id": "b6f20ff9-e905-497f-8395-2cd05504a8ae",
   "metadata": {},
   "outputs": [],
   "source": []
  },
  {
   "cell_type": "code",
   "execution_count": null,
   "id": "d89ae94c-67e7-46eb-8415-8cfe0380b631",
   "metadata": {},
   "outputs": [],
   "source": []
  },
  {
   "cell_type": "code",
   "execution_count": null,
   "id": "b841fe44-a993-48ba-b49a-b5ac321ce672",
   "metadata": {},
   "outputs": [],
   "source": []
  },
  {
   "cell_type": "code",
   "execution_count": null,
   "id": "5c83425b-28e6-4b64-b3bc-92d652a70197",
   "metadata": {},
   "outputs": [],
   "source": []
  },
  {
   "cell_type": "code",
   "execution_count": null,
   "id": "1cd5fa74-3af7-4fd1-a278-e608ed984d95",
   "metadata": {},
   "outputs": [],
   "source": []
  }
 ],
 "metadata": {
  "kernelspec": {
   "display_name": "Python [conda env:base] *",
   "language": "python",
   "name": "conda-base-py"
  },
  "language_info": {
   "codemirror_mode": {
    "name": "ipython",
    "version": 3
   },
   "file_extension": ".py",
   "mimetype": "text/x-python",
   "name": "python",
   "nbconvert_exporter": "python",
   "pygments_lexer": "ipython3",
   "version": "3.12.7"
  }
 },
 "nbformat": 4,
 "nbformat_minor": 5
}
